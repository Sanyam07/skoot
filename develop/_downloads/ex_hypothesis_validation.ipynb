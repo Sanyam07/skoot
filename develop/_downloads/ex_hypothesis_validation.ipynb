{
  "cells": [
    {
      "cell_type": "code",
      "execution_count": null,
      "metadata": {
        "collapsed": false
      },
      "outputs": [],
      "source": [
        "%matplotlib inline"
      ]
    },
    {
      "cell_type": "markdown",
      "metadata": {},
      "source": [
        "\n# Hypothesis testing for model monitoring\n\n\nDemonstrates how to use hypothesis testing for model monitoring\nand validation.\n\n.. raw:: html\n\n   <br/>\n\n"
      ]
    },
    {
      "cell_type": "code",
      "execution_count": null,
      "metadata": {
        "collapsed": false
      },
      "outputs": [],
      "source": [
        "print(__doc__)\n\n# Author: Taylor Smith <taylor.smith@alkaline-ml.com>\n\nfrom sklearn.datasets import make_classification\nfrom sklearn.model_selection import train_test_split\nfrom sklearn.preprocessing import StandardScaler\nfrom sklearn.linear_model import LogisticRegression\nfrom sklearn.pipeline import make_pipeline\nfrom skoot.model_validation import DistHypothesisValidator\nimport warnings\n\n# #############################################################################\n# Create a classification dataset and split it\nseed = 42\nX, y = make_classification(n_samples=5000, n_classes=2, weights=[0.1, 0.9],\n                           random_state=seed, n_features=4)\n\n# split the data\nX_train, X_test, y_train, y_test = train_test_split(X, y, test_size=0.1,\n                                                    random_state=seed)\n\n# #############################################################################\n# Build a pipeline with a validator\npipe = make_pipeline(StandardScaler(with_mean=True, with_std=True),\n                     DistHypothesisValidator(action=\"warn\", alpha=0.05),\n                     LogisticRegression(random_state=seed))\n\n# push data through the pipeline & show we can predict on train data with\n# no warnings of any kind\npipe.fit(X_train, y_train)\npipe.predict(X_train)\n\n# #############################################################################\n# Show how this can break for a dataset that does NOT conform to\n# the expected distributions\n\nX_test[:, 1] *= 5.  # multiply a feature by some large factor\n\n# This will now produce a warning in the model validator class, since the\n# two-tailed T-test will produce a P-value < alpha:\nwith warnings.catch_warnings(record=True) as w:\n    warnings.simplefilter(\"always\")\n    pipe.predict(X_test)\n    print(w[0].message)"
      ]
    }
  ],
  "metadata": {
    "kernelspec": {
      "display_name": "Python 3",
      "language": "python",
      "name": "python3"
    },
    "language_info": {
      "codemirror_mode": {
        "name": "ipython",
        "version": 3
      },
      "file_extension": ".py",
      "mimetype": "text/x-python",
      "name": "python",
      "nbconvert_exporter": "python",
      "pygments_lexer": "ipython3",
      "version": "3.6.9"
    }
  },
  "nbformat": 4,
  "nbformat_minor": 0
}