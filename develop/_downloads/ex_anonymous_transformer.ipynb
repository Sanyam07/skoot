{
  "cells": [
    {
      "cell_type": "code",
      "execution_count": null,
      "metadata": {
        "collapsed": false
      },
      "outputs": [],
      "source": [
        "%matplotlib inline"
      ]
    },
    {
      "cell_type": "markdown",
      "metadata": {},
      "source": [
        "\n# Anonymous transformers in skoot\n\n\nSometimes you have a pre-processing stage that finds itself awkwardly\npositioned in the middle of your pipeline and you're left with one of\ntwo options:\n\n  1. Write a full transformer class\n  2. Break your pipeline up into pieces\n\nObviously, the preferable action is the first, however many times your\nfunction doesn't actually fit any training set parameters, so the transformer\nfeels like overkill.\n\nThis tutorial will introduce you to making anonymous, lightweight transformers\non the fly that will fit into your modeling pipeline seamlessly.\n\n.. raw:: html\n\n   <br/>\n\n"
      ]
    },
    {
      "cell_type": "code",
      "execution_count": null,
      "metadata": {
        "collapsed": false
      },
      "outputs": [],
      "source": [
        "print(__doc__)\n\n# Author: Taylor Smith <taylor.smith@alkaline-ml.com>\n\n# #############################################################################\n# Introduce an interesting scenario\nfrom sklearn.model_selection import train_test_split\nfrom sklearn.pipeline import Pipeline\nfrom skoot.preprocessing import SelectiveStandardScaler\nfrom skoot.base import make_transformer\nfrom skoot.datasets import load_iris_df\n\nX = load_iris_df(tgt_name=\"target\")\ny = X.pop('target')\nX_train, X_test, y_train, y_test = train_test_split(X, y, random_state=42,\n                                                    test_size=0.2)\n\n# Let's say we want to scale our features with the StandardScaler, but\n# for whatever reason we only want the ABSOLUTE value of the scaled values.\n# We *could* create a transformer or split our pipeline, but either case is\n# klunky and could interrupt our CV process in a grid search.\n#\n# So we'll instead define a simple commutative function that will be wrapped\n# in an \"anonymous\" transformer\ndef make_abs(X):\n    return X.abs()\n\n\npipe = Pipeline([\n    (\"scale\", SelectiveStandardScaler()),\n    (\"abs\", make_transformer(make_abs))\n])\n\npipe.fit(X_train, y_train)\nprint(\"Absolute scaled values: \")\nprint(pipe.transform(X_test))"
      ]
    }
  ],
  "metadata": {
    "kernelspec": {
      "display_name": "Python 3",
      "language": "python",
      "name": "python3"
    },
    "language_info": {
      "codemirror_mode": {
        "name": "ipython",
        "version": 3
      },
      "file_extension": ".py",
      "mimetype": "text/x-python",
      "name": "python",
      "nbconvert_exporter": "python",
      "pygments_lexer": "ipython3",
      "version": "3.6.9"
    }
  },
  "nbformat": 4,
  "nbformat_minor": 0
}