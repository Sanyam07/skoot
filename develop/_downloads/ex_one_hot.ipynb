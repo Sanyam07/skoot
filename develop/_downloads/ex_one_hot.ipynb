{
  "cells": [
    {
      "cell_type": "code",
      "execution_count": null,
      "metadata": {
        "collapsed": false
      },
      "outputs": [],
      "source": [
        "%matplotlib inline"
      ]
    },
    {
      "cell_type": "markdown",
      "metadata": {},
      "source": [
        "\n# One-hot encoding\n\n\nDemonstrates how to use the DummyEncoder. For a more comprehensive explanation,\ntake a look at the\n`demo on alkaline-ml.com <https://alkaline-ml.com/2018-06-18-skoot-intro>`_.\n\n.. raw:: html\n\n   <br/>\n\n"
      ]
    },
    {
      "cell_type": "code",
      "execution_count": null,
      "metadata": {
        "collapsed": false
      },
      "outputs": [],
      "source": [
        "print(__doc__)\n\n# Author: Taylor Smith <taylor.smith@alkaline-ml.com>\n\nfrom skoot.datasets import load_adult_df\nfrom skoot.preprocessing import DummyEncoder\nfrom skoot.utils.dataframe import get_categorical_columns\nfrom sklearn.model_selection import train_test_split\nimport pandas as pd\n\n# #############################################################################\n# load & split the data\nadult = load_adult_df(tgt_name=\"target\")\ny = adult.pop(\"target\")\n\n# we don't want this column\n_ = adult.pop(\"education-num\")\n\nX_train, X_test, y_train, y_test = train_test_split(adult, y, random_state=42,\n                                                    test_size=0.2)\n\n# #############################################################################\n# Fit a dummy encoder\nobj_cols = get_categorical_columns(X_train).columns\nencoder = DummyEncoder(cols=obj_cols, handle_unknown='ignore', n_jobs=4)\nencoder.fit(X_train, y_train)\n\n# #############################################################################\n# Apply to the test set\nprint(\"Test transformation:\")\nprint(encoder.transform(X_test).head())\n\n# #############################################################################\n# Show we can work with levels we've never seen before\ntest_row = X_test.iloc[0]\ntest_row.set_value(\"native-country\", \"Atlantis\")\ntrans = encoder.transform(pd.DataFrame([test_row]))\nprint(\"\\nApplied on a row with a new native-country:\")\nprint(trans)\n\nnc_mask = trans.columns.str.contains(\"native-country\")\nassert trans[trans.columns[nc_mask]].sum().sum() == 0"
      ]
    }
  ],
  "metadata": {
    "kernelspec": {
      "display_name": "Python 3",
      "language": "python",
      "name": "python3"
    },
    "language_info": {
      "codemirror_mode": {
        "name": "ipython",
        "version": 3
      },
      "file_extension": ".py",
      "mimetype": "text/x-python",
      "name": "python",
      "nbconvert_exporter": "python",
      "pygments_lexer": "ipython3",
      "version": "3.6.9"
    }
  },
  "nbformat": 4,
  "nbformat_minor": 0
}