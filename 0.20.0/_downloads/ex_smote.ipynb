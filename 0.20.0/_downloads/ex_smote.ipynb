{
  "cells": [
    {
      "cell_type": "code",
      "execution_count": null,
      "metadata": {
        "collapsed": false
      },
      "outputs": [],
      "source": [
        "%matplotlib inline"
      ]
    },
    {
      "cell_type": "markdown",
      "metadata": {},
      "source": [
        "\n# SMOTE class balancer\n\n\nThis example creates an imbalanced classification dataset, and applies the\n`Synthetic Minority Observation TEchnique (SMOTE) <https://bit.ly/2qH3dIX>`_\nclass balancing technique in order to balance it by supplementing synthetic\nminority class observations.\n\n.. raw:: html\n\n   <br/>\n\n"
      ]
    },
    {
      "cell_type": "code",
      "execution_count": null,
      "metadata": {
        "collapsed": false
      },
      "outputs": [],
      "source": [
        "print(__doc__)\n\n# Author: Taylor Smith <taylor.smith@alkaline-ml.com>\n\nfrom matplotlib import pyplot as plt\nfrom sklearn.datasets import make_blobs\nfrom sklearn.utils.validation import check_random_state\nfrom skoot.balance import smote_balance\n\nplt.figure(figsize=(6, 4))\n\n# #############################################################################\n# make blobs and grossly undersample one of them\nrandom_state = check_random_state(42)\nn_samples = 1000\nX, y = make_blobs(n_samples=n_samples, centers=2,\n                  random_state=random_state,\n                  n_features=5, cluster_std=4.5)\n\nminority_mask = y == 0\nsample_mask = ((~minority_mask) |\n               (minority_mask &\n                (random_state.rand(minority_mask.shape[0]) < 0.05)))\n\nX, y = X[sample_mask, :], y[sample_mask]\n\nplt.subplot(121)\nplt.scatter(X[:, 0], X[:, 1], c=y)\nplt.title(\"Initial imbalanced dataset\")\n\n# #############################################################################\n# Balance the dataset\nX_balance, y_balance = smote_balance(X, y, balance_ratio=0.2, random_state=42)\n\nplt.subplot(122)\nplt.scatter(X_balance[:, 0], X_balance[:, 1],\n            c=y_balance)\nplt.title(\"Balanced dataset\")\nplt.show()"
      ]
    }
  ],
  "metadata": {
    "kernelspec": {
      "display_name": "Python 3",
      "language": "python",
      "name": "python3"
    },
    "language_info": {
      "codemirror_mode": {
        "name": "ipython",
        "version": 3
      },
      "file_extension": ".py",
      "mimetype": "text/x-python",
      "name": "python",
      "nbconvert_exporter": "python",
      "pygments_lexer": "ipython3",
      "version": "3.6.9"
    }
  },
  "nbformat": 4,
  "nbformat_minor": 0
}