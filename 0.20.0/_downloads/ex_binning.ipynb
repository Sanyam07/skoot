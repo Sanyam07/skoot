{
  "cells": [
    {
      "cell_type": "code",
      "execution_count": null,
      "metadata": {
        "collapsed": false
      },
      "outputs": [],
      "source": [
        "%matplotlib inline"
      ]
    },
    {
      "cell_type": "markdown",
      "metadata": {},
      "source": [
        "\n# Binning transformer\n\n\nDemonstrates how to bin continuous features in your dataset.\n\n.. raw:: html\n\n   <br/>\n\n"
      ]
    },
    {
      "cell_type": "code",
      "execution_count": null,
      "metadata": {
        "collapsed": false
      },
      "outputs": [],
      "source": [
        "print(__doc__)\n\n# Author: Taylor Smith <taylor.smith@alkaline-ml.com>\n\nfrom matplotlib import pyplot as plt\nfrom skoot.datasets import load_iris_df\nfrom skoot.preprocessing import BinningTransformer\n\n# #############################################################################\n# load data\niris = load_iris_df(include_tgt=False, names=[\"a\", \"b\", \"c\", \"d\"])\nbinner = BinningTransformer(cols=[\"a\", \"b\"], return_bin_label=True,\n                            strategy=\"uniform\", overwrite=False,\n                            n_bins=4)\n\n# print the head of the binned dataset\nprint(binner.fit_transform(iris).head())\n\n# #############################################################################\n# Show where the boundaries reside\n\na_lower = binner.bins_[\"a\"].lower_bounds[1:]  # skip the -np.inf\nplt.hist(iris[\"a\"].values)\n\n# plot vertical lines where bins are\nfor bound in a_lower:\n    plt.axvline(bound, ls=\"--\")\nplt.title(\"Iris feature 'a' + bin markers\")\nplt.show()"
      ]
    }
  ],
  "metadata": {
    "kernelspec": {
      "display_name": "Python 3",
      "language": "python",
      "name": "python3"
    },
    "language_info": {
      "codemirror_mode": {
        "name": "ipython",
        "version": 3
      },
      "file_extension": ".py",
      "mimetype": "text/x-python",
      "name": "python",
      "nbconvert_exporter": "python",
      "pygments_lexer": "ipython3",
      "version": "3.6.9"
    }
  },
  "nbformat": 4,
  "nbformat_minor": 0
}