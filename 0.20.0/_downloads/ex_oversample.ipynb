{
  "cells": [
    {
      "cell_type": "code",
      "execution_count": null,
      "metadata": {
        "collapsed": false
      },
      "outputs": [],
      "source": [
        "%matplotlib inline"
      ]
    },
    {
      "cell_type": "markdown",
      "metadata": {},
      "source": [
        "\n# Oversampling minority samples\n\n\n\nThis example creates an imbalanced classification dataset, and\noversamples the minority class to balance the class ratios.\n\n.. raw:: html\n\n   <br/>\n\n"
      ]
    },
    {
      "cell_type": "code",
      "execution_count": null,
      "metadata": {
        "collapsed": false
      },
      "outputs": [],
      "source": [
        "print(__doc__)\n\n# Author: Taylor Smith <taylor.smith@alkaline-ml.com>\n\nfrom sklearn.datasets import make_classification\nfrom skoot.balance import over_sample_balance\nimport pandas as pd\n\n# #############################################################################\n# Create an imbalanced dataset\nX, y = make_classification(n_samples=500, n_classes=2, weights=[0.05, 0.95],\n                           random_state=42)\n\n# get counts:\nzero_mask = y == 0\nprint(\"Num zero class (pre-balance): %i\" % zero_mask.sum())\nprint(\"Num one class (pre-balance): %i\\n\" % (~zero_mask).sum())\n\n# #############################################################################\n# Balance the dataset\nX_balance, y_balance = over_sample_balance(X, y, balance_ratio=0.2,\n                                           random_state=42)\n\n# get the new counts\nnew_mask = y_balance == 0\nprint(\"Num zero class (post-balance): %i\" % new_mask.sum())\nprint(\"Num one class (post-balance): %i\" % (~new_mask).sum())\nprint(\"Num samples (post-balance): %i\" % X_balance.shape[0])\n\n# #############################################################################\n# This also works for pandas DataFrames\n\nX_balance_df, _ = over_sample_balance(pd.DataFrame.from_records(X),\n                                      y, balance_ratio=0.2,\n                                      random_state=42)\n\nprint(X_balance_df.head())"
      ]
    }
  ],
  "metadata": {
    "kernelspec": {
      "display_name": "Python 3",
      "language": "python",
      "name": "python3"
    },
    "language_info": {
      "codemirror_mode": {
        "name": "ipython",
        "version": 3
      },
      "file_extension": ".py",
      "mimetype": "text/x-python",
      "name": "python",
      "nbconvert_exporter": "python",
      "pygments_lexer": "ipython3",
      "version": "3.6.9"
    }
  },
  "nbformat": 4,
  "nbformat_minor": 0
}