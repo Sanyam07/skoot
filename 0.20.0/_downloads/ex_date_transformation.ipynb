{
  "cells": [
    {
      "cell_type": "code",
      "execution_count": null,
      "metadata": {
        "collapsed": false
      },
      "outputs": [],
      "source": [
        "%matplotlib inline"
      ]
    },
    {
      "cell_type": "markdown",
      "metadata": {},
      "source": [
        "\n# Date transformer\n\n\nDemonstrates how to automatically transform string date-representation\nfields into datetime type fields.\n\n.. raw:: html\n\n   <br/>\n\n"
      ]
    },
    {
      "cell_type": "code",
      "execution_count": null,
      "metadata": {
        "collapsed": false
      },
      "outputs": [],
      "source": [
        "print(__doc__)\n\n# Author: Taylor Smith <taylor.smith@alkaline-ml.com>\n\nfrom skoot.preprocessing import DateTransformer\nimport pandas as pd\nfrom datetime import datetime as dt\n\n# #############################################################################\n# create data\ndata = [\n    [1, \"06/01/2018\", dt.strptime(\"06-01-2018\", \"%m-%d-%Y\")],\n    [2, \"06/02/2018\", dt.strptime(\"06-02-2018\", \"%m-%d-%Y\")],\n    [3, \"06/03/2018\", dt.strptime(\"06-03-2018\", \"%m-%d-%Y\")],\n    [4, None, dt.strptime(\"06-04-2018\", \"%m-%d-%Y\")],\n    [5, \"06/05/2018\", None]\n]\n\ndf = pd.DataFrame.from_records(data, columns=[\"a\", \"b\", \"c\"])\n\n# the date transformer will automatically handle existing datetime fields\n# and infer the format of string datetime fields:\nprint(\"Applied to cols ['b', 'c'] with inferred format:\")\nprint(DateTransformer(cols=['b', 'c']).fit_transform(df))\n\n# we can also supply the format, if desired:\nprint(\"\\nApplied to cols ['b', 'c'] with specified format:\")\nprint(DateTransformer(cols=['b', 'c'],\n                      date_format=\"%m/%d/%Y\").fit_transform(df))\n\n# Finally, if we wanted to apply the transformer to int types, we can\n# add this to the permitted types\nallowed = DateTransformer.DEFAULT_PERMITTED_DTYPES + (\"int64\",)\nprint(\"\\nApplied to cols ['a', 'b', 'c'] with inferred format:\")\nprint(DateTransformer(cols=['a', 'b', 'c'],\n                      allowed_types=allowed).fit_transform(df))"
      ]
    }
  ],
  "metadata": {
    "kernelspec": {
      "display_name": "Python 3",
      "language": "python",
      "name": "python3"
    },
    "language_info": {
      "codemirror_mode": {
        "name": "ipython",
        "version": 3
      },
      "file_extension": ".py",
      "mimetype": "text/x-python",
      "name": "python",
      "nbconvert_exporter": "python",
      "pygments_lexer": "ipython3",
      "version": "3.6.9"
    }
  },
  "nbformat": 4,
  "nbformat_minor": 0
}