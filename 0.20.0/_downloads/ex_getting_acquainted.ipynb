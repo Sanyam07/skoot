{
  "cells": [
    {
      "cell_type": "code",
      "execution_count": null,
      "metadata": {
        "collapsed": false
      },
      "outputs": [],
      "source": [
        "%matplotlib inline"
      ]
    },
    {
      "cell_type": "markdown",
      "metadata": {},
      "source": [
        "\n# Getting acquainted with skoot\n\n\nThis example walks through the package layout and where various\ntransformers/classes can be located, as well as displays some nuances\nbetween scikit-learn and skoot.\n\n.. raw:: html\n\n   <br/>\n\n"
      ]
    },
    {
      "cell_type": "code",
      "execution_count": null,
      "metadata": {
        "collapsed": false
      },
      "outputs": [],
      "source": [
        "print(__doc__)\n\n# Author: Taylor Smith <taylor.smith@alkaline-ml.com>\n\n# #############################################################################\n# Skoot is laid out much like scikit-learn. That is, many of the same modules\n# exist in skoot that are present in scikit. For example:\nfrom skoot import decomposition\nprint(dir(decomposition))  # many are similar to sklearn classes\nprint(\"\")\n\n# #############################################################################\n# Skoot also has a dataset interface, like sklearn. Except it returns\n# dataframes rather than numpy arrays:\nfrom skoot.datasets import load_iris_df\ndf = load_iris_df(include_tgt=True, tgt_name='Species')\nprint(df.head())\nprint(\"\")\n\n# #############################################################################\n# All skoot transformers are based on the BasePDTransformer:\nfrom skoot.base import BasePDTransformer\n\nprint(BasePDTransformer.__doc__)"
      ]
    }
  ],
  "metadata": {
    "kernelspec": {
      "display_name": "Python 3",
      "language": "python",
      "name": "python3"
    },
    "language_info": {
      "codemirror_mode": {
        "name": "ipython",
        "version": 3
      },
      "file_extension": ".py",
      "mimetype": "text/x-python",
      "name": "python",
      "nbconvert_exporter": "python",
      "pygments_lexer": "ipython3",
      "version": "3.6.9"
    }
  },
  "nbformat": 4,
  "nbformat_minor": 0
}