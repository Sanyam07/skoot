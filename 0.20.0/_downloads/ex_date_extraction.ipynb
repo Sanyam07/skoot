{
  "cells": [
    {
      "cell_type": "code",
      "execution_count": null,
      "metadata": {
        "collapsed": false
      },
      "outputs": [],
      "source": [
        "%matplotlib inline"
      ]
    },
    {
      "cell_type": "markdown",
      "metadata": {},
      "source": [
        "\n# Extracting date features\n\n\nDemonstrates how to automatically extract factor-level features from\ndatetime fields.\n\n.. raw:: html\n\n   <br/>\n\n"
      ]
    },
    {
      "cell_type": "code",
      "execution_count": null,
      "metadata": {
        "collapsed": false
      },
      "outputs": [],
      "source": [
        "print(__doc__)\n\n# Author: Taylor Smith <taylor.smith@alkaline-ml.com>\n\nfrom skoot.feature_extraction import DateFactorizer\nimport pandas as pd\nfrom datetime import datetime as dt\n\n# #############################################################################\n# create data\ndata = [\n    [1, dt.strptime(\"06-01-2018 12:00:05\", \"%m-%d-%Y %H:%M:%S\")],\n    [2, dt.strptime(\"06-02-2018 13:19:12\", \"%m-%d-%Y %H:%M:%S\")],\n    [3, dt.strptime(\"06-03-2018 06:04:17\", \"%m-%d-%Y %H:%M:%S\")],\n    [4, dt.strptime(\"06-04-2018 03:56:32\", \"%m-%d-%Y %H:%M:%S\")],\n    [5, None]\n]\n\ndf = pd.DataFrame.from_records(data, columns=[\"transaction_id\", \"time\"])\n\n# We can extract a multitude of features from date fields. The default will\n# grab the year, month, day and hour\nprint(\"Default features:\")\nprint(DateFactorizer(cols=['time']).fit_transform(df))\n\n# we can specify more if we'd like:\nprint(\"\\n+Minutes, +Seconds:\")\nprint(DateFactorizer(cols=['time'],\n                     features=(\"year\", \"month\", \"day\",\n                               \"hour\", \"minute\", \"second\")).fit_transform(df))\n\n# And we can retain the old (pre-transform) time features if we wanted\nprint(\"\\nSame as above, but retain old time column:\")\nprint(DateFactorizer(cols=['time'],\n                     drop_original=False,\n                     features=(\"year\", \"month\", \"day\",\n                               \"hour\", \"minute\", \"second\")).fit_transform(df))"
      ]
    }
  ],
  "metadata": {
    "kernelspec": {
      "display_name": "Python 3",
      "language": "python",
      "name": "python3"
    },
    "language_info": {
      "codemirror_mode": {
        "name": "ipython",
        "version": 3
      },
      "file_extension": ".py",
      "mimetype": "text/x-python",
      "name": "python",
      "nbconvert_exporter": "python",
      "pygments_lexer": "ipython3",
      "version": "3.6.9"
    }
  },
  "nbformat": 4,
  "nbformat_minor": 0
}